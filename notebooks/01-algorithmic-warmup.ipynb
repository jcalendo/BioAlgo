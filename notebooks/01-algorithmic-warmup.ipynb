{
 "cells": [
  {
   "cell_type": "markdown",
   "metadata": {},
   "source": [
    "# Chapter 1: Where in the genome does DNA replication begin?"
   ]
  },
  {
   "cell_type": "markdown",
   "metadata": {},
   "source": [
    "## Counting Words\n",
    "\n",
    "> We use the term **k-mer** to refer to a string of length *k* and define COUNT(Text, Pattern) as the number of times that a k-mer *Pattern* appears as a substring of *Text*\n",
    "\n",
    "Below, implement PATTERNCOUNT(*Text*, *Pattern*) as a sliding window over *Text* checking whether *Pattern* appears as a substring. Return the number of times *Pattern* appears as a substring in *Text*"
   ]
  },
  {
   "cell_type": "code",
   "execution_count": 1,
   "metadata": {},
   "outputs": [
    {
     "output_type": "stream",
     "name": "stdout",
     "text": [
      "3\n"
     ]
    }
   ],
   "source": [
    "def pattern_count(text: str, pattern: str) -> int:\n",
    "    count = 0\n",
    "    k = len(pattern)\n",
    "    for i in range(len(text) - k + 1):\n",
    "        if text[i:i+k] == pattern:\n",
    "            count += 1\n",
    "            \n",
    "    return count\n",
    "\n",
    "# test data - should return 3 -------------------------------------------------\n",
    "s = 'ACAACTATGCATACTATCGGGAACTATCCT'\n",
    "p = 'ACTAT'\n",
    "\n",
    "print(pattern_count(s, p))"
   ]
  },
  {
   "cell_type": "markdown",
   "metadata": {},
   "source": [
    "## Frequent Words\n",
    "\n",
    "> A straightforward algorithm for finding the most frequent k-mers in a string *Text* checks all k-mers appearing in this string then computes how many times each k-mer appears in *Text*\n",
    "\n",
    "Below, implement the inefficient FREQUENTWORDS(*Text*, *k*) algorithm. Return the most frequent k-mers in text."
   ]
  },
  {
   "cell_type": "code",
   "execution_count": 2,
   "metadata": {},
   "outputs": [
    {
     "output_type": "stream",
     "name": "stdout",
     "text": [
      "{'CCC'}\n"
     ]
    }
   ],
   "source": [
    "from typing import Set\n",
    "\n",
    "\n",
    "def frequent_words(text: str, k: int) -> Set:\n",
    "    frequent_patterns = set()\n",
    "    count = []\n",
    "    for i in range(len(text) - k + 1):\n",
    "        pattern = text[i:i+k]\n",
    "        count.append(pattern_count(text, pattern))\n",
    "    \n",
    "    max_count = max(count)\n",
    "    for i in range(len(text) - k + 1):\n",
    "        if count[i] == max_count:\n",
    "            frequent_patterns.add(text[i:i+k])\n",
    "            \n",
    "    return frequent_patterns\n",
    "\n",
    "# -----------------------------------------------------------------------------\n",
    "Text = 'ACTGACTCCCACCCC'\n",
    "K = 3\n",
    "\n",
    "print(frequent_words(Text, K))"
   ]
  },
  {
   "cell_type": "markdown",
   "metadata": {},
   "source": [
    "## Building a faster frequent words function\n",
    "\n",
    "This implementation slides down *Text* only once, adding a count to the frequency array of a string *Text* where the ith element of the array holds the count of the number of times that ith k-mer appears in *Text*"
   ]
  },
  {
   "cell_type": "code",
   "execution_count": 3,
   "metadata": {},
   "outputs": [
    {
     "output_type": "execute_result",
     "data": {
      "text/plain": [
       "{'CCC'}"
      ]
     },
     "metadata": {},
     "execution_count": 3
    }
   ],
   "source": [
    "from typing import List\n",
    "\n",
    "\n",
    "def pattern_to_number(pattern: str) -> int:\n",
    "    if not pattern:\n",
    "        return 0\n",
    "    \n",
    "    symbols = {\"A\":0, \"C\":1, \"G\":2, \"T\":3}\n",
    "    symbol = pattern[-1]\n",
    "    prefix = pattern[:-1]\n",
    "    \n",
    "    return 4 * pattern_to_number(prefix) + symbols[symbol]\n",
    "\n",
    "\n",
    "def number_to_pattern(index: int, k: int) -> str:\n",
    "    numbers = \"ACGT\"\n",
    "    \n",
    "    if k == 1:\n",
    "        return numbers[index]\n",
    "    \n",
    "    prefix_index = index // 4\n",
    "    r = index % 4\n",
    "    symbol = numbers[r]\n",
    "    prefix_pattern = number_to_pattern(prefix_index, k-1)\n",
    "    \n",
    "    return prefix_pattern + symbol\n",
    "\n",
    "\n",
    "def computing_frequencies(text: str, k: int) -> List:\n",
    "    frequency_array = [0 for _ in range(4**k)]\n",
    "    for i in range(len(text) - k + 1):\n",
    "        pattern = text[i:i+k]\n",
    "        j = pattern_to_number(pattern)\n",
    "        frequency_array[j] += 1\n",
    "    \n",
    "    return frequency_array\n",
    "\n",
    "\n",
    "def faster_frequent_words(text: str, k: int) -> Set:\n",
    "    frequent_patterns = set()\n",
    "    frequency_array = computing_frequencies(text, k)\n",
    "    max_count = max(frequency_array)\n",
    "    for i in range(4**k-1):\n",
    "        if frequency_array[i] == max_count:\n",
    "            pattern = number_to_pattern(i, k)\n",
    "            frequent_patterns.add(pattern)\n",
    "    \n",
    "    return frequent_patterns\n",
    "\n",
    "\n",
    "faster_frequent_words(Text, K)"
   ]
  },
  {
   "cell_type": "markdown",
   "metadata": {},
   "source": [
    "## Finding Frequent Words by Sorting"
   ]
  },
  {
   "cell_type": "code",
   "execution_count": 4,
   "metadata": {},
   "outputs": [
    {
     "output_type": "execute_result",
     "data": {
      "text/plain": [
       "{'CCC'}"
      ]
     },
     "metadata": {},
     "execution_count": 4
    }
   ],
   "source": [
    "def frequent_words_by_sorting(text: str, k: int) -> Set:\n",
    "    frequent_patterns = set()\n",
    "    index = [0 for _ in range(len(text) - k + 1)]\n",
    "    count = [0 for _ in index]\n",
    "    for i in range(len(text) - k + 1):\n",
    "        pattern = text[i:i+k]\n",
    "        index[i] = pattern_to_number(pattern)\n",
    "        count[i] += 1\n",
    "    \n",
    "    sorted_index = sorted(index)\n",
    "    for i in range(1, len(text) - k + 1):\n",
    "        if sorted_index[i] == sorted_index[i-1]:\n",
    "            count[i] = count[i-1] + 1\n",
    "    \n",
    "    max_count = max(count)\n",
    "    for i in range(len(text) - k + 1):\n",
    "        if count[i] == max_count:\n",
    "            pattern = number_to_pattern(sorted_index[i], k)\n",
    "            frequent_patterns.add(pattern)\n",
    "    \n",
    "    return frequent_patterns        \n",
    "\n",
    "frequent_words_by_sorting(Text, K)"
   ]
  },
  {
   "cell_type": "markdown",
   "metadata": {},
   "source": [
    "## Pythonic Frequent Words\n",
    "\n",
    "Instead of using two arrays, implement the algorithm using Python standard library functions. Using a `defaultdict` will allow a single pass through *Text* while adding unobserved k-mers to a dictionary. After all k-mers and their counts have been added to the dictionary, return the keys (words) with the max count."
   ]
  },
  {
   "cell_type": "code",
   "execution_count": 5,
   "metadata": {},
   "outputs": [
    {
     "output_type": "execute_result",
     "data": {
      "text/plain": [
       "['CCC']"
      ]
     },
     "metadata": {},
     "execution_count": 5
    }
   ],
   "source": [
    "from collections import defaultdict\n",
    "\n",
    "\n",
    "def frequent_words_pythonic(text: str, k: int) -> List:\n",
    "    words = defaultdict(int)\n",
    "    for i in range(len(text) - k + 1):\n",
    "        pattern = text[i:i+k]\n",
    "        words[pattern] += 1\n",
    "    \n",
    "    max_count = max(words.items(), key=lambda x: x[1])\n",
    "    frequent_words = [key for key, value in words.items() if value == max_count[1]]\n",
    "            \n",
    "    return frequent_words\n",
    "\n",
    "frequent_words_pythonic(Text, K)"
   ]
  },
  {
   "source": [
    "## Finding the reverse complement of a DNA string"
   ],
   "cell_type": "markdown",
   "metadata": {}
  },
  {
   "cell_type": "code",
   "execution_count": 6,
   "metadata": {},
   "outputs": [
    {
     "output_type": "execute_result",
     "data": {
      "text/plain": [
       "'GGGGTGGGAGTCAGT'"
      ]
     },
     "metadata": {},
     "execution_count": 6
    }
   ],
   "source": [
    "def reverse_complement(pattern: str) -> str:\n",
    "    transtable = str.maketrans('ACGT', 'TGCA')\n",
    "    return pattern.translate(transtable)[::-1]\n",
    "\n",
    "reverse_complement(Text)"
   ]
  },
  {
   "source": [
    "## Clump Finding\n",
    "\n",
    "Slide a window of length *L* along the genome, looking for a region where a k-mer appears several times in short succession. Given integers *L* and *t*, a k-mer forms an **(*L*, *t*)-Clump** inside a longer string *Genome* if there is an interval of *Genome* of length *L* in which this k-mer appears at least *t* times.\n",
    "\n",
    "Below, use `BioPython` to get a sample Genome of *Salmonella enterica* from Entrez "
   ],
   "cell_type": "markdown",
   "metadata": {}
  },
  {
   "cell_type": "code",
   "execution_count": 7,
   "metadata": {},
   "outputs": [],
   "source": [
    "from Bio import Entrez\n",
    "from Bio import SeqIO\n",
    "\n",
    "\n",
    "# Use the optional email parameter\n",
    "Entrez.email = \"jcalendo@gmail.com\"\n",
    "\n",
    "# retrieve the Salmonella Enterica record \n",
    "handle = Entrez.efetch(db=\"nucleotide\", id=\"AE006468.2\", rettype=\"gb\", retmode=\"text\")\n",
    "\n",
    "# read into a SeqRecord\n",
    "record = SeqIO.read(handle, \"genbank\")\n",
    "sequence = record.seq"
   ]
  },
  {
   "source": [
    "The implementation below is very slow. "
   ],
   "cell_type": "markdown",
   "metadata": {}
  },
  {
   "cell_type": "code",
   "execution_count": null,
   "metadata": {},
   "outputs": [],
   "source": [
    "def clump_finding(genome: str, k: int, L: int, t: int) -> Set:\n",
    "    frequent_patterns = set()\n",
    "    clump = [0 for _ in range(4**k)]\n",
    "\n",
    "    for i in range(len(genome) - L + 1):\n",
    "        text = genome[i:i+L]\n",
    "        frequency_array = computing_frequencies(text, k)\n",
    "        for f in frequency_array:\n",
    "            if f >- t:\n",
    "                clump[j] = 1\n",
    "    \n",
    "    for c in clump:\n",
    "        if c == 1:\n",
    "            pattern = pattern_to_number(i, k)\n",
    "            frequent_patterns.add(pattern)\n",
    "    \n",
    "    return frequent_patterns\n",
    "\n",
    "\n",
    "clump_finding(genome=sequence, k=9, L=500, t=3)"
   ]
  },
  {
   "cell_type": "code",
   "execution_count": null,
   "metadata": {},
   "outputs": [],
   "source": []
  }
 ],
 "metadata": {
  "kernelspec": {
   "display_name": "Python 3",
   "language": "python",
   "name": "python3"
  },
  "language_info": {
   "codemirror_mode": {
    "name": "ipython",
    "version": 3
   },
   "file_extension": ".py",
   "mimetype": "text/x-python",
   "name": "python",
   "nbconvert_exporter": "python",
   "pygments_lexer": "ipython3",
   "version": "3.8.5-final"
  }
 },
 "nbformat": 4,
 "nbformat_minor": 4
}